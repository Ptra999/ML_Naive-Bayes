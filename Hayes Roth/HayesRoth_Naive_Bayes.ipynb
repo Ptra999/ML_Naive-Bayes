{
 "cells": [
  {
   "cell_type": "code",
   "execution_count": 1,
   "id": "0d3ab9bd",
   "metadata": {},
   "outputs": [],
   "source": [
    "# Import all the necessary Libraries\n",
    "import matplotlib.pyplot as plt\n",
    "import pandas as pd\n",
    "import seaborn as sns\n",
    "from csv import reader as rd\n",
    "from math import pi\n",
    "from sklearn.preprocessing import LabelEncoder\n",
    "from math import exp\n",
    "from random import randrange\n",
    "import numpy as np\n",
    "from math import sqrt"
   ]
  },
  {
   "cell_type": "code",
   "execution_count": 2,
   "id": "6dc9814d",
   "metadata": {},
   "outputs": [],
   "source": [
    "#Read CSV dataset\n",
    "df = pd.read_csv('hayes-roth.csv')"
   ]
  },
  {
   "cell_type": "code",
   "execution_count": 3,
   "id": "ae8151a7",
   "metadata": {},
   "outputs": [
    {
     "data": {
      "text/html": [
       "<div>\n",
       "<style scoped>\n",
       "    .dataframe tbody tr th:only-of-type {\n",
       "        vertical-align: middle;\n",
       "    }\n",
       "\n",
       "    .dataframe tbody tr th {\n",
       "        vertical-align: top;\n",
       "    }\n",
       "\n",
       "    .dataframe thead th {\n",
       "        text-align: right;\n",
       "    }\n",
       "</style>\n",
       "<table border=\"1\" class=\"dataframe\">\n",
       "  <thead>\n",
       "    <tr style=\"text-align: right;\">\n",
       "      <th></th>\n",
       "      <th>92</th>\n",
       "      <th>2</th>\n",
       "      <th>1</th>\n",
       "      <th>1.1</th>\n",
       "      <th>2.1</th>\n",
       "      <th>1.2</th>\n",
       "    </tr>\n",
       "  </thead>\n",
       "  <tbody>\n",
       "    <tr>\n",
       "      <th>0</th>\n",
       "      <td>10</td>\n",
       "      <td>2</td>\n",
       "      <td>1</td>\n",
       "      <td>3</td>\n",
       "      <td>2</td>\n",
       "      <td>2</td>\n",
       "    </tr>\n",
       "    <tr>\n",
       "      <th>1</th>\n",
       "      <td>83</td>\n",
       "      <td>3</td>\n",
       "      <td>1</td>\n",
       "      <td>4</td>\n",
       "      <td>1</td>\n",
       "      <td>3</td>\n",
       "    </tr>\n",
       "    <tr>\n",
       "      <th>2</th>\n",
       "      <td>61</td>\n",
       "      <td>2</td>\n",
       "      <td>4</td>\n",
       "      <td>2</td>\n",
       "      <td>2</td>\n",
       "      <td>3</td>\n",
       "    </tr>\n",
       "    <tr>\n",
       "      <th>3</th>\n",
       "      <td>107</td>\n",
       "      <td>1</td>\n",
       "      <td>1</td>\n",
       "      <td>3</td>\n",
       "      <td>4</td>\n",
       "      <td>3</td>\n",
       "    </tr>\n",
       "    <tr>\n",
       "      <th>4</th>\n",
       "      <td>113</td>\n",
       "      <td>1</td>\n",
       "      <td>1</td>\n",
       "      <td>3</td>\n",
       "      <td>2</td>\n",
       "      <td>2</td>\n",
       "    </tr>\n",
       "    <tr>\n",
       "      <th>5</th>\n",
       "      <td>80</td>\n",
       "      <td>3</td>\n",
       "      <td>1</td>\n",
       "      <td>3</td>\n",
       "      <td>2</td>\n",
       "      <td>2</td>\n",
       "    </tr>\n",
       "    <tr>\n",
       "      <th>6</th>\n",
       "      <td>125</td>\n",
       "      <td>3</td>\n",
       "      <td>4</td>\n",
       "      <td>2</td>\n",
       "      <td>4</td>\n",
       "      <td>3</td>\n",
       "    </tr>\n",
       "    <tr>\n",
       "      <th>7</th>\n",
       "      <td>36</td>\n",
       "      <td>2</td>\n",
       "      <td>2</td>\n",
       "      <td>1</td>\n",
       "      <td>1</td>\n",
       "      <td>1</td>\n",
       "    </tr>\n",
       "    <tr>\n",
       "      <th>8</th>\n",
       "      <td>105</td>\n",
       "      <td>3</td>\n",
       "      <td>2</td>\n",
       "      <td>1</td>\n",
       "      <td>1</td>\n",
       "      <td>1</td>\n",
       "    </tr>\n",
       "    <tr>\n",
       "      <th>9</th>\n",
       "      <td>81</td>\n",
       "      <td>1</td>\n",
       "      <td>2</td>\n",
       "      <td>1</td>\n",
       "      <td>1</td>\n",
       "      <td>1</td>\n",
       "    </tr>\n",
       "    <tr>\n",
       "      <th>10</th>\n",
       "      <td>122</td>\n",
       "      <td>2</td>\n",
       "      <td>2</td>\n",
       "      <td>3</td>\n",
       "      <td>4</td>\n",
       "      <td>3</td>\n",
       "    </tr>\n",
       "    <tr>\n",
       "      <th>11</th>\n",
       "      <td>94</td>\n",
       "      <td>1</td>\n",
       "      <td>1</td>\n",
       "      <td>2</td>\n",
       "      <td>1</td>\n",
       "      <td>1</td>\n",
       "    </tr>\n",
       "    <tr>\n",
       "      <th>12</th>\n",
       "      <td>60</td>\n",
       "      <td>2</td>\n",
       "      <td>1</td>\n",
       "      <td>2</td>\n",
       "      <td>2</td>\n",
       "      <td>2</td>\n",
       "    </tr>\n",
       "    <tr>\n",
       "      <th>13</th>\n",
       "      <td>8</td>\n",
       "      <td>2</td>\n",
       "      <td>4</td>\n",
       "      <td>1</td>\n",
       "      <td>4</td>\n",
       "      <td>3</td>\n",
       "    </tr>\n",
       "    <tr>\n",
       "      <th>14</th>\n",
       "      <td>20</td>\n",
       "      <td>1</td>\n",
       "      <td>1</td>\n",
       "      <td>3</td>\n",
       "      <td>3</td>\n",
       "      <td>1</td>\n",
       "    </tr>\n",
       "    <tr>\n",
       "      <th>15</th>\n",
       "      <td>85</td>\n",
       "      <td>3</td>\n",
       "      <td>2</td>\n",
       "      <td>1</td>\n",
       "      <td>2</td>\n",
       "      <td>2</td>\n",
       "    </tr>\n",
       "    <tr>\n",
       "      <th>16</th>\n",
       "      <td>50</td>\n",
       "      <td>1</td>\n",
       "      <td>2</td>\n",
       "      <td>1</td>\n",
       "      <td>1</td>\n",
       "      <td>1</td>\n",
       "    </tr>\n",
       "    <tr>\n",
       "      <th>17</th>\n",
       "      <td>68</td>\n",
       "      <td>3</td>\n",
       "      <td>3</td>\n",
       "      <td>2</td>\n",
       "      <td>1</td>\n",
       "      <td>1</td>\n",
       "    </tr>\n",
       "    <tr>\n",
       "      <th>18</th>\n",
       "      <td>89</td>\n",
       "      <td>3</td>\n",
       "      <td>1</td>\n",
       "      <td>3</td>\n",
       "      <td>2</td>\n",
       "      <td>1</td>\n",
       "    </tr>\n",
       "    <tr>\n",
       "      <th>19</th>\n",
       "      <td>52</td>\n",
       "      <td>1</td>\n",
       "      <td>2</td>\n",
       "      <td>2</td>\n",
       "      <td>1</td>\n",
       "      <td>2</td>\n",
       "    </tr>\n",
       "  </tbody>\n",
       "</table>\n",
       "</div>"
      ],
      "text/plain": [
       "     92  2  1  1.1  2.1  1.2\n",
       "0    10  2  1    3    2    2\n",
       "1    83  3  1    4    1    3\n",
       "2    61  2  4    2    2    3\n",
       "3   107  1  1    3    4    3\n",
       "4   113  1  1    3    2    2\n",
       "5    80  3  1    3    2    2\n",
       "6   125  3  4    2    4    3\n",
       "7    36  2  2    1    1    1\n",
       "8   105  3  2    1    1    1\n",
       "9    81  1  2    1    1    1\n",
       "10  122  2  2    3    4    3\n",
       "11   94  1  1    2    1    1\n",
       "12   60  2  1    2    2    2\n",
       "13    8  2  4    1    4    3\n",
       "14   20  1  1    3    3    1\n",
       "15   85  3  2    1    2    2\n",
       "16   50  1  2    1    1    1\n",
       "17   68  3  3    2    1    1\n",
       "18   89  3  1    3    2    1\n",
       "19   52  1  2    2    1    2"
      ]
     },
     "execution_count": 3,
     "metadata": {},
     "output_type": "execute_result"
    }
   ],
   "source": [
    "df.head(20)"
   ]
  },
  {
   "cell_type": "code",
   "execution_count": 4,
   "id": "f6cf21c7",
   "metadata": {},
   "outputs": [],
   "source": [
    "df.columns=['A','B','C','D','E','Y']"
   ]
  },
  {
   "cell_type": "code",
   "execution_count": 5,
   "id": "7ffd97a8",
   "metadata": {},
   "outputs": [
    {
     "data": {
      "text/html": [
       "<div>\n",
       "<style scoped>\n",
       "    .dataframe tbody tr th:only-of-type {\n",
       "        vertical-align: middle;\n",
       "    }\n",
       "\n",
       "    .dataframe tbody tr th {\n",
       "        vertical-align: top;\n",
       "    }\n",
       "\n",
       "    .dataframe thead th {\n",
       "        text-align: right;\n",
       "    }\n",
       "</style>\n",
       "<table border=\"1\" class=\"dataframe\">\n",
       "  <thead>\n",
       "    <tr style=\"text-align: right;\">\n",
       "      <th></th>\n",
       "      <th>A</th>\n",
       "      <th>B</th>\n",
       "      <th>C</th>\n",
       "      <th>D</th>\n",
       "      <th>E</th>\n",
       "      <th>Y</th>\n",
       "    </tr>\n",
       "  </thead>\n",
       "  <tbody>\n",
       "    <tr>\n",
       "      <th>count</th>\n",
       "      <td>131.000000</td>\n",
       "      <td>131.000000</td>\n",
       "      <td>131.000000</td>\n",
       "      <td>131.000000</td>\n",
       "      <td>131.000000</td>\n",
       "      <td>131.000000</td>\n",
       "    </tr>\n",
       "    <tr>\n",
       "      <th>mean</th>\n",
       "      <td>66.305344</td>\n",
       "      <td>2.000000</td>\n",
       "      <td>1.961832</td>\n",
       "      <td>1.961832</td>\n",
       "      <td>1.954198</td>\n",
       "      <td>1.847328</td>\n",
       "    </tr>\n",
       "    <tr>\n",
       "      <th>std</th>\n",
       "      <td>38.330324</td>\n",
       "      <td>0.822753</td>\n",
       "      <td>0.947909</td>\n",
       "      <td>0.947909</td>\n",
       "      <td>0.951619</td>\n",
       "      <td>0.769348</td>\n",
       "    </tr>\n",
       "    <tr>\n",
       "      <th>min</th>\n",
       "      <td>1.000000</td>\n",
       "      <td>1.000000</td>\n",
       "      <td>1.000000</td>\n",
       "      <td>1.000000</td>\n",
       "      <td>1.000000</td>\n",
       "      <td>1.000000</td>\n",
       "    </tr>\n",
       "    <tr>\n",
       "      <th>25%</th>\n",
       "      <td>33.500000</td>\n",
       "      <td>1.000000</td>\n",
       "      <td>1.000000</td>\n",
       "      <td>1.000000</td>\n",
       "      <td>1.000000</td>\n",
       "      <td>1.000000</td>\n",
       "    </tr>\n",
       "    <tr>\n",
       "      <th>50%</th>\n",
       "      <td>66.000000</td>\n",
       "      <td>2.000000</td>\n",
       "      <td>2.000000</td>\n",
       "      <td>2.000000</td>\n",
       "      <td>2.000000</td>\n",
       "      <td>2.000000</td>\n",
       "    </tr>\n",
       "    <tr>\n",
       "      <th>75%</th>\n",
       "      <td>99.500000</td>\n",
       "      <td>3.000000</td>\n",
       "      <td>2.000000</td>\n",
       "      <td>2.000000</td>\n",
       "      <td>2.000000</td>\n",
       "      <td>2.000000</td>\n",
       "    </tr>\n",
       "    <tr>\n",
       "      <th>max</th>\n",
       "      <td>132.000000</td>\n",
       "      <td>3.000000</td>\n",
       "      <td>4.000000</td>\n",
       "      <td>4.000000</td>\n",
       "      <td>4.000000</td>\n",
       "      <td>3.000000</td>\n",
       "    </tr>\n",
       "  </tbody>\n",
       "</table>\n",
       "</div>"
      ],
      "text/plain": [
       "                A           B           C           D           E           Y\n",
       "count  131.000000  131.000000  131.000000  131.000000  131.000000  131.000000\n",
       "mean    66.305344    2.000000    1.961832    1.961832    1.954198    1.847328\n",
       "std     38.330324    0.822753    0.947909    0.947909    0.951619    0.769348\n",
       "min      1.000000    1.000000    1.000000    1.000000    1.000000    1.000000\n",
       "25%     33.500000    1.000000    1.000000    1.000000    1.000000    1.000000\n",
       "50%     66.000000    2.000000    2.000000    2.000000    2.000000    2.000000\n",
       "75%     99.500000    3.000000    2.000000    2.000000    2.000000    2.000000\n",
       "max    132.000000    3.000000    4.000000    4.000000    4.000000    3.000000"
      ]
     },
     "execution_count": 5,
     "metadata": {},
     "output_type": "execute_result"
    }
   ],
   "source": [
    "df.describe()\n"
   ]
  },
  {
   "cell_type": "code",
   "execution_count": 6,
   "id": "adfa3b33",
   "metadata": {},
   "outputs": [
    {
     "data": {
      "text/plain": [
       "Index(['A', 'B', 'C', 'D', 'E', 'Y'], dtype='object')"
      ]
     },
     "execution_count": 6,
     "metadata": {},
     "output_type": "execute_result"
    }
   ],
   "source": [
    "df.columns"
   ]
  },
  {
   "cell_type": "code",
   "execution_count": 7,
   "id": "285a5f97",
   "metadata": {},
   "outputs": [
    {
     "data": {
      "image/png": "[encoded data removed]",
      "text/plain": [
       "<Figure size 700x600 with 1 Axes>"
      ]
     },
     "metadata": {},
     "output_type": "display_data"
    }
   ],
   "source": [
    "sns.set(font_scale=1.4)\n",
    "df['Y'].value_counts().plot(kind='bar', figsize=(7, 6), rot=0)\n",
    "plt.xlabel(\"Class\", labelpad=14)\n",
    "plt.ylabel(\"Count of Each Class\", labelpad=14)\n",
    "plt.title(\"\", y=1.02);"
   ]
  },
  {
   "cell_type": "code",
   "execution_count": 8,
   "id": "5c78bc7f",
   "metadata": {},
   "outputs": [],
   "source": [
    "#label_encoder initialisation\n",
    "le = LabelEncoder()  "
   ]
  },
  {
   "cell_type": "code",
   "execution_count": 9,
   "id": "de0b9bb9",
   "metadata": {},
   "outputs": [],
   "source": [
    "#Label Encoding categorical columns and then converting to string\n",
    "df['A']= le.fit_transform(df['A']).astype(str)\n",
    "df['B']= le.fit_transform(df['B']).astype(str)\n",
    "df['C']= le.fit_transform(df['C']).astype(str)\n",
    "df['D']= le.fit_transform(df['D']).astype(str)\n",
    "df['E']= le.fit_transform(df['E']).astype(str)\n",
    "df['Y']= le.fit_transform(df['Y']).astype(str)"
   ]
  },
  {
   "cell_type": "code",
   "execution_count": 10,
   "id": "d241f2c3",
   "metadata": {},
   "outputs": [
    {
     "data": {
      "text/plain": [
       "A    object\n",
       "B    object\n",
       "C    object\n",
       "D    object\n",
       "E    object\n",
       "Y    object\n",
       "dtype: object"
      ]
     },
     "execution_count": 10,
     "metadata": {},
     "output_type": "execute_result"
    }
   ],
   "source": [
    "#Checking data types\n",
    "df.dtypes"
   ]
  },
  {
   "cell_type": "code",
   "execution_count": 11,
   "id": "d5b820bd",
   "metadata": {},
   "outputs": [],
   "source": [
    "#Saving the datframe to a string\n",
    "df.to_csv('preprocessed_hayes_roth.csv')"
   ]
  },
  {
   "cell_type": "code",
   "execution_count": 12,
   "id": "3f7088d5",
   "metadata": {},
   "outputs": [],
   "source": [
    "# Converting the string data type column to integer type\n",
    "def data_conv(data, column):\n",
    "    class_v = [row[column] for row in data]\n",
    "    uni = set(class_v)\n",
    "    look = dict()\n",
    "    for i, value in enumerate(uni):\n",
    "        look[value] = i\n",
    "    for row in data:\n",
    "        row[column] = look[row[column]]\n",
    "    return look"
   ]
  },
  {
   "cell_type": "code",
   "execution_count": 13,
   "id": "68b41498",
   "metadata": {},
   "outputs": [],
   "source": [
    "# Dataset Split into k folds\n",
    "def ksplit(dataset, n):\n",
    "    a = list()\n",
    "    b = list(dataset)\n",
    "    fol = int(len(dataset) / n)\n",
    "    for _ in range(n):\n",
    "        fold = list()\n",
    "        while len(fold) < fol:\n",
    "            ix = randrange(len(b))\n",
    "            fold.append(b.pop(ix))\n",
    "        a.append(fold)\n",
    "    return a"
   ]
  },
  {
   "cell_type": "code",
   "execution_count": 14,
   "id": "e6d0b761",
   "metadata": {},
   "outputs": [],
   "source": [
    "# Split the dataset by class values, returns a dictionary\n",
    "def separate(dataset):\n",
    "    separated = dict()\n",
    "    for i in range(len(dataset)):\n",
    "        vector = dataset[i]\n",
    "        class_value = vector[-1]\n",
    "        if (class_value not in separated):\n",
    "            separated[class_value] = list()\n",
    "        separated[class_value].append(vector)\n",
    "    return separated"
   ]
  },
  {
   "cell_type": "code",
   "execution_count": 15,
   "id": "9cd5d473",
   "metadata": {},
   "outputs": [],
   "source": [
    "# Calculate the mean, standard deviation of a list of numbers\n",
    "\n",
    "def mean(num):\n",
    "    return sum(num)/(len(num))\n",
    " \n",
    "\n",
    "def stdev(num):\n",
    "    avg = mean(num)\n",
    "    try:\n",
    "        var = int(sum([(x-avg)**2 for x in num])) / (len(num)-1)\n",
    "    except ZeroDivisionError:\n",
    "        var=0\n",
    "    return sqrt(var)\n",
    " \n",
    "def sd(dataset):\n",
    "    story = [(mean(column), stdev(column), len(column)) for column in zip(*dataset)]\n",
    "    del(story[-1])\n",
    "    return story"
   ]
  },
  {
   "cell_type": "code",
   "execution_count": 16,
   "id": "32706b77",
   "metadata": {},
   "outputs": [],
   "source": [
    "# Implementing K fold Cross Validation\n",
    "def algo(data, algorithm, k, *args):\n",
    "    folds = ksplit(data, k)\n",
    "    scores = list()\n",
    "    for fold in folds:\n",
    "        train_set = list(folds)\n",
    "        train_set.remove(fold)\n",
    "        train_set = sum(train_set, [])\n",
    "        test_set = list()\n",
    "        for row in fold:\n",
    "            row_copy = list(row)\n",
    "            test_set.append(row_copy)\n",
    "            row_copy[-1] = None\n",
    "        predicted = algorithm(train_set, test_set, *args)\n",
    "        actual = [row[-1] for row in fold]\n",
    "        accuracy = accuracy_metric(actual, predicted)\n",
    "        scores.append(accuracy)\n",
    "    return scores"
   ]
  },
  {
   "cell_type": "code",
   "execution_count": 17,
   "id": "d7332adc",
   "metadata": {},
   "outputs": [],
   "source": [
    "# Split dataset by class then calculate statistics for each row\n",
    "def s_class(data):\n",
    "    separated = separate(data)\n",
    "    st = dict()\n",
    "    for class_value, rows in separated.items():\n",
    "        st[class_value] = sd(rows)\n",
    "    return st"
   ]
  },
  {
   "cell_type": "code",
   "execution_count": 18,
   "id": "146fcfb8",
   "metadata": {},
   "outputs": [],
   "source": [
    "# Calculate the Gaussian probability distribution function for x\n",
    "def probability(x, m, s):\n",
    "    try:\n",
    "        res1 = exp(-(int((x-m)**2) / (2 * s**2 )))\n",
    "    except ZeroDivisionError:\n",
    "        res1=0\n",
    "    try:\n",
    "        res2=(1 / (sqrt(2 * pi) * s)) * res1\n",
    "    except ZeroDivisionError:\n",
    "        res2=0\n",
    "    return (res2)"
   ]
  },
  {
   "cell_type": "code",
   "execution_count": 19,
   "id": "f9bfb7b1",
   "metadata": {},
   "outputs": [],
   "source": [
    "# Calculate the probabilities of predicting each class for a given row\n",
    "import numpy as np\n",
    "def calculate(op, row):\n",
    "    total = sum([op[label][0][2] for label in op])\n",
    "    prob = dict()\n",
    "    for cv, cs in op.items():\n",
    "        prob[cv] = op[cv][0][2]/float(total)\n",
    "        for i in range(len(cs)):\n",
    "            m, s, _ = cs[i]\n",
    "            prob[cv] += np.log(probability(row[i], m, s))\n",
    "    return prob"
   ]
  },
  {
   "cell_type": "code",
   "execution_count": 20,
   "id": "1fd5a961",
   "metadata": {},
   "outputs": [],
   "source": [
    "# Gaussian Naive Bayes Algorithm\n",
    "def nb(train, test):\n",
    "    s = s_class(train)\n",
    "    p = list()\n",
    "    for x in test:\n",
    "        res = predictions(s, x)\n",
    "        p.append(res)\n",
    "    return(p)"
   ]
  },
  {
   "cell_type": "code",
   "execution_count": 21,
   "id": "78fb6441",
   "metadata": {},
   "outputs": [],
   "source": [
    "# Predict the class for a given row\n",
    "def predictions(ss, row):\n",
    "    pr = calculate(ss, row)\n",
    "    label, prob = None, -1\n",
    "    for cv, probability in pr.items():\n",
    "        if probability > prob or label is None:\n",
    "            prob = probability\n",
    "            label = cv\n",
    "    return label"
   ]
  },
  {
   "cell_type": "code",
   "execution_count": 22,
   "id": "438cc278",
   "metadata": {},
   "outputs": [],
   "source": [
    "# Loading the CSV file\n",
    "def load(filename):\n",
    "    da = list()\n",
    "    with open(filename, 'r') as file:\n",
    "        re = rd(file)\n",
    "        for r in re:\n",
    "            if not r:\n",
    "                continue\n",
    "            da.append(r)\n",
    "    return da"
   ]
  },
  {
   "cell_type": "code",
   "execution_count": 23,
   "id": "5a99435c",
   "metadata": {},
   "outputs": [],
   "source": [
    "#Accuracy Percentage Calculation\n",
    "def accuracy_metric(act, pred):\n",
    "    cor = 0\n",
    "    for i in range(len(act)):\n",
    "        if act[i] == pred[i]:\n",
    "            cor += 1\n",
    "    return cor / (len(act)) * 100.0"
   ]
  },
  {
   "cell_type": "code",
   "execution_count": 24,
   "id": "9d7810cf",
   "metadata": {},
   "outputs": [
    {
     "name": "stderr",
     "output_type": "stream",
     "text": [
      "/var/folders/3m/lm4crwzd05925wnqr9f3qtfw0000gn/T/ipykernel_9699/3351882173.py:10: RuntimeWarning: divide by zero encountered in log\n",
      "  prob[cv] += np.log(probability(row[i], m, s))\n"
     ]
    }
   ],
   "source": [
    "# Pipeline Naive Bayes\n",
    "k = 10\n",
    "name= 'preprocessed_hayes_roth.csv'\n",
    "dataset = load(name)\n",
    "for i in range(len(dataset[0])-1):\n",
    "    data_conv(dataset, i)\n",
    "data_conv(dataset, len(dataset[0])-1)\n",
    "res = algo(dataset, nb, k)\n"
   ]
  },
  {
   "cell_type": "code",
   "execution_count": 25,
   "id": "a58dcca5",
   "metadata": {},
   "outputs": [
    {
     "name": "stdout",
     "output_type": "stream",
     "text": [
      "We have perfomed 10 Fold Cross Validation on the given data using our Gaussian Naive Bayes Model. The result for each fold is as follows:\n",
      "\n",
      " 69.230769\n",
      " 61.538462\n",
      " 84.615385\n",
      " 53.846154\n",
      " 76.923077\n",
      " 53.846154\n",
      " 69.230769\n",
      " 76.923077\n",
      " 61.538462\n",
      " 53.846154\n",
      "\n"
     ]
    }
   ],
   "source": [
    "c=1\n",
    "print(f\"We have perfomed 10 Fold Cross Validation on the given data using our Gaussian Naive Bayes Model. The result for each fold is as follows:\")\n",
    "print(f\"\")\n",
    "for i in res:\n",
    "    print(f' %f' % i)\n",
    "print(f\"\")\n"
   ]
  },
  {
   "cell_type": "code",
   "execution_count": 26,
   "id": "fa3e22e6",
   "metadata": {},
   "outputs": [
    {
     "data": {
      "image/png": "[encoded data removed]",
      "text/plain": [
       "<Figure size 640x480 with 1 Axes>"
      ]
     },
     "metadata": {},
     "output_type": "display_data"
    }
   ],
   "source": [
    "c=[1,2,3,4,5,6,7,8,9,10]\n",
    "plt.plot(res,)\n",
    "plt.title('Accuracy')\n",
    "plt.xlabel('kth Fold')\n",
    "plt.ylabel('K Fold Cross Validation')\n",
    "plt.show()"
   ]
  },
  {
   "cell_type": "code",
   "execution_count": 27,
   "id": "e3e95a4d",
   "metadata": {},
   "outputs": [
    {
     "name": "stdout",
     "output_type": "stream",
     "text": [
      "Hence we can conclude by taking average of all these values that our model is accurate 66.154%\n"
     ]
    }
   ],
   "source": [
    "print(f'Hence we can conclude by taking average of all these values that our model is accurate %.3f%%' % (sum(res)/float(len(res))))"
   ]
  },
  {
   "cell_type": "code",
   "execution_count": null,
   "id": "51ed208f",
   "metadata": {},
   "outputs": [],
   "source": []
  }
 ],
 "metadata": {
  "kernelspec": {
   "display_name": "Python 3.10.7 64-bit",
   "language": "python",
   "name": "python3"
  },
  "language_info": {
   "codemirror_mode": {
    "name": "ipython",
    "version": 3
   },
   "file_extension": ".py",
   "mimetype": "text/x-python",
   "name": "python",
   "nbconvert_exporter": "python",
   "pygments_lexer": "ipython3",
   "version": "3.10.7"
  },
  "vscode": {
   "interpreter": {
    "hash": "aee8b7b246df8f9039afb4144a1f6fd8d2ca17a180786b69acc140d282b71a49"
   }
  }
 },
 "nbformat": 4,
 "nbformat_minor": 5
}
