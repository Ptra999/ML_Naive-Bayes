{
 "cells": [
  {
   "cell_type": "code",
   "execution_count": 1,
   "id": "0d3ab9bd",
   "metadata": {},
   "outputs": [],
   "source": [
    "# Import all the necessary Libraries\n",
    "import matplotlib.pyplot as plt\n",
    "import pandas as pd\n",
    "import seaborn as sns\n",
    "from csv import reader as rd\n",
    "from math import pi\n",
    "from sklearn.preprocessing import LabelEncoder\n",
    "from math import exp\n",
    "from random import randrange\n",
    "import numpy as np\n",
    "from math import sqrt"
   ]
  },
  {
   "cell_type": "code",
   "execution_count": 2,
   "id": "6dc9814d",
   "metadata": {},
   "outputs": [],
   "source": [
    "#Read CSV dataset\n",
    "df = pd.read_csv('car.csv')"
   ]
  },
  {
   "cell_type": "code",
   "execution_count": 3,
   "id": "b9919f45",
   "metadata": {},
   "outputs": [
    {
     "data": {
      "text/html": [
       "<div>\n",
       "<style scoped>\n",
       "    .dataframe tbody tr th:only-of-type {\n",
       "        vertical-align: middle;\n",
       "    }\n",
       "\n",
       "    .dataframe tbody tr th {\n",
       "        vertical-align: top;\n",
       "    }\n",
       "\n",
       "    .dataframe thead th {\n",
       "        text-align: right;\n",
       "    }\n",
       "</style>\n",
       "<table border=\"1\" class=\"dataframe\">\n",
       "  <thead>\n",
       "    <tr style=\"text-align: right;\">\n",
       "      <th></th>\n",
       "      <th>vhigh</th>\n",
       "      <th>vhigh.1</th>\n",
       "      <th>2</th>\n",
       "      <th>2.1</th>\n",
       "      <th>small</th>\n",
       "      <th>low</th>\n",
       "      <th>unacc</th>\n",
       "    </tr>\n",
       "  </thead>\n",
       "  <tbody>\n",
       "    <tr>\n",
       "      <th>0</th>\n",
       "      <td>vhigh</td>\n",
       "      <td>vhigh</td>\n",
       "      <td>2</td>\n",
       "      <td>2</td>\n",
       "      <td>small</td>\n",
       "      <td>med</td>\n",
       "      <td>unacc</td>\n",
       "    </tr>\n",
       "    <tr>\n",
       "      <th>1</th>\n",
       "      <td>vhigh</td>\n",
       "      <td>vhigh</td>\n",
       "      <td>2</td>\n",
       "      <td>2</td>\n",
       "      <td>small</td>\n",
       "      <td>high</td>\n",
       "      <td>unacc</td>\n",
       "    </tr>\n",
       "    <tr>\n",
       "      <th>2</th>\n",
       "      <td>vhigh</td>\n",
       "      <td>vhigh</td>\n",
       "      <td>2</td>\n",
       "      <td>2</td>\n",
       "      <td>med</td>\n",
       "      <td>low</td>\n",
       "      <td>unacc</td>\n",
       "    </tr>\n",
       "    <tr>\n",
       "      <th>3</th>\n",
       "      <td>vhigh</td>\n",
       "      <td>vhigh</td>\n",
       "      <td>2</td>\n",
       "      <td>2</td>\n",
       "      <td>med</td>\n",
       "      <td>med</td>\n",
       "      <td>unacc</td>\n",
       "    </tr>\n",
       "    <tr>\n",
       "      <th>4</th>\n",
       "      <td>vhigh</td>\n",
       "      <td>vhigh</td>\n",
       "      <td>2</td>\n",
       "      <td>2</td>\n",
       "      <td>med</td>\n",
       "      <td>high</td>\n",
       "      <td>unacc</td>\n",
       "    </tr>\n",
       "    <tr>\n",
       "      <th>5</th>\n",
       "      <td>vhigh</td>\n",
       "      <td>vhigh</td>\n",
       "      <td>2</td>\n",
       "      <td>2</td>\n",
       "      <td>big</td>\n",
       "      <td>low</td>\n",
       "      <td>unacc</td>\n",
       "    </tr>\n",
       "    <tr>\n",
       "      <th>6</th>\n",
       "      <td>vhigh</td>\n",
       "      <td>vhigh</td>\n",
       "      <td>2</td>\n",
       "      <td>2</td>\n",
       "      <td>big</td>\n",
       "      <td>med</td>\n",
       "      <td>unacc</td>\n",
       "    </tr>\n",
       "    <tr>\n",
       "      <th>7</th>\n",
       "      <td>vhigh</td>\n",
       "      <td>vhigh</td>\n",
       "      <td>2</td>\n",
       "      <td>2</td>\n",
       "      <td>big</td>\n",
       "      <td>high</td>\n",
       "      <td>unacc</td>\n",
       "    </tr>\n",
       "    <tr>\n",
       "      <th>8</th>\n",
       "      <td>vhigh</td>\n",
       "      <td>vhigh</td>\n",
       "      <td>2</td>\n",
       "      <td>4</td>\n",
       "      <td>small</td>\n",
       "      <td>low</td>\n",
       "      <td>unacc</td>\n",
       "    </tr>\n",
       "    <tr>\n",
       "      <th>9</th>\n",
       "      <td>vhigh</td>\n",
       "      <td>vhigh</td>\n",
       "      <td>2</td>\n",
       "      <td>4</td>\n",
       "      <td>small</td>\n",
       "      <td>med</td>\n",
       "      <td>unacc</td>\n",
       "    </tr>\n",
       "    <tr>\n",
       "      <th>10</th>\n",
       "      <td>vhigh</td>\n",
       "      <td>vhigh</td>\n",
       "      <td>2</td>\n",
       "      <td>4</td>\n",
       "      <td>small</td>\n",
       "      <td>high</td>\n",
       "      <td>unacc</td>\n",
       "    </tr>\n",
       "    <tr>\n",
       "      <th>11</th>\n",
       "      <td>vhigh</td>\n",
       "      <td>vhigh</td>\n",
       "      <td>2</td>\n",
       "      <td>4</td>\n",
       "      <td>med</td>\n",
       "      <td>low</td>\n",
       "      <td>unacc</td>\n",
       "    </tr>\n",
       "    <tr>\n",
       "      <th>12</th>\n",
       "      <td>vhigh</td>\n",
       "      <td>vhigh</td>\n",
       "      <td>2</td>\n",
       "      <td>4</td>\n",
       "      <td>med</td>\n",
       "      <td>med</td>\n",
       "      <td>unacc</td>\n",
       "    </tr>\n",
       "    <tr>\n",
       "      <th>13</th>\n",
       "      <td>vhigh</td>\n",
       "      <td>vhigh</td>\n",
       "      <td>2</td>\n",
       "      <td>4</td>\n",
       "      <td>med</td>\n",
       "      <td>high</td>\n",
       "      <td>unacc</td>\n",
       "    </tr>\n",
       "    <tr>\n",
       "      <th>14</th>\n",
       "      <td>vhigh</td>\n",
       "      <td>vhigh</td>\n",
       "      <td>2</td>\n",
       "      <td>4</td>\n",
       "      <td>big</td>\n",
       "      <td>low</td>\n",
       "      <td>unacc</td>\n",
       "    </tr>\n",
       "    <tr>\n",
       "      <th>15</th>\n",
       "      <td>vhigh</td>\n",
       "      <td>vhigh</td>\n",
       "      <td>2</td>\n",
       "      <td>4</td>\n",
       "      <td>big</td>\n",
       "      <td>med</td>\n",
       "      <td>unacc</td>\n",
       "    </tr>\n",
       "    <tr>\n",
       "      <th>16</th>\n",
       "      <td>vhigh</td>\n",
       "      <td>vhigh</td>\n",
       "      <td>2</td>\n",
       "      <td>4</td>\n",
       "      <td>big</td>\n",
       "      <td>high</td>\n",
       "      <td>unacc</td>\n",
       "    </tr>\n",
       "    <tr>\n",
       "      <th>17</th>\n",
       "      <td>vhigh</td>\n",
       "      <td>vhigh</td>\n",
       "      <td>2</td>\n",
       "      <td>more</td>\n",
       "      <td>small</td>\n",
       "      <td>low</td>\n",
       "      <td>unacc</td>\n",
       "    </tr>\n",
       "    <tr>\n",
       "      <th>18</th>\n",
       "      <td>vhigh</td>\n",
       "      <td>vhigh</td>\n",
       "      <td>2</td>\n",
       "      <td>more</td>\n",
       "      <td>small</td>\n",
       "      <td>med</td>\n",
       "      <td>unacc</td>\n",
       "    </tr>\n",
       "    <tr>\n",
       "      <th>19</th>\n",
       "      <td>vhigh</td>\n",
       "      <td>vhigh</td>\n",
       "      <td>2</td>\n",
       "      <td>more</td>\n",
       "      <td>small</td>\n",
       "      <td>high</td>\n",
       "      <td>unacc</td>\n",
       "    </tr>\n",
       "  </tbody>\n",
       "</table>\n",
       "</div>"
      ],
      "text/plain": [
       "    vhigh vhigh.1  2   2.1  small   low  unacc\n",
       "0   vhigh   vhigh  2     2  small   med  unacc\n",
       "1   vhigh   vhigh  2     2  small  high  unacc\n",
       "2   vhigh   vhigh  2     2    med   low  unacc\n",
       "3   vhigh   vhigh  2     2    med   med  unacc\n",
       "4   vhigh   vhigh  2     2    med  high  unacc\n",
       "5   vhigh   vhigh  2     2    big   low  unacc\n",
       "6   vhigh   vhigh  2     2    big   med  unacc\n",
       "7   vhigh   vhigh  2     2    big  high  unacc\n",
       "8   vhigh   vhigh  2     4  small   low  unacc\n",
       "9   vhigh   vhigh  2     4  small   med  unacc\n",
       "10  vhigh   vhigh  2     4  small  high  unacc\n",
       "11  vhigh   vhigh  2     4    med   low  unacc\n",
       "12  vhigh   vhigh  2     4    med   med  unacc\n",
       "13  vhigh   vhigh  2     4    med  high  unacc\n",
       "14  vhigh   vhigh  2     4    big   low  unacc\n",
       "15  vhigh   vhigh  2     4    big   med  unacc\n",
       "16  vhigh   vhigh  2     4    big  high  unacc\n",
       "17  vhigh   vhigh  2  more  small   low  unacc\n",
       "18  vhigh   vhigh  2  more  small   med  unacc\n",
       "19  vhigh   vhigh  2  more  small  high  unacc"
      ]
     },
     "execution_count": 3,
     "metadata": {},
     "output_type": "execute_result"
    }
   ],
   "source": [
    "df.head(20)"
   ]
  },
  {
   "cell_type": "code",
   "execution_count": 4,
   "id": "1035f998",
   "metadata": {},
   "outputs": [],
   "source": [
    "df.columns=['A','B','C','D','E','F','Y']"
   ]
  },
  {
   "cell_type": "code",
   "execution_count": 5,
   "id": "b5aff9fe",
   "metadata": {},
   "outputs": [
    {
     "data": {
      "text/html": [
       "<div>\n",
       "<style scoped>\n",
       "    .dataframe tbody tr th:only-of-type {\n",
       "        vertical-align: middle;\n",
       "    }\n",
       "\n",
       "    .dataframe tbody tr th {\n",
       "        vertical-align: top;\n",
       "    }\n",
       "\n",
       "    .dataframe thead th {\n",
       "        text-align: right;\n",
       "    }\n",
       "</style>\n",
       "<table border=\"1\" class=\"dataframe\">\n",
       "  <thead>\n",
       "    <tr style=\"text-align: right;\">\n",
       "      <th></th>\n",
       "      <th>A</th>\n",
       "      <th>B</th>\n",
       "      <th>C</th>\n",
       "      <th>D</th>\n",
       "      <th>E</th>\n",
       "      <th>F</th>\n",
       "      <th>Y</th>\n",
       "    </tr>\n",
       "  </thead>\n",
       "  <tbody>\n",
       "    <tr>\n",
       "      <th>count</th>\n",
       "      <td>1727</td>\n",
       "      <td>1727</td>\n",
       "      <td>1727</td>\n",
       "      <td>1727</td>\n",
       "      <td>1727</td>\n",
       "      <td>1727</td>\n",
       "      <td>1727</td>\n",
       "    </tr>\n",
       "    <tr>\n",
       "      <th>unique</th>\n",
       "      <td>4</td>\n",
       "      <td>4</td>\n",
       "      <td>4</td>\n",
       "      <td>3</td>\n",
       "      <td>3</td>\n",
       "      <td>3</td>\n",
       "      <td>4</td>\n",
       "    </tr>\n",
       "    <tr>\n",
       "      <th>top</th>\n",
       "      <td>high</td>\n",
       "      <td>high</td>\n",
       "      <td>3</td>\n",
       "      <td>4</td>\n",
       "      <td>med</td>\n",
       "      <td>med</td>\n",
       "      <td>unacc</td>\n",
       "    </tr>\n",
       "    <tr>\n",
       "      <th>freq</th>\n",
       "      <td>432</td>\n",
       "      <td>432</td>\n",
       "      <td>432</td>\n",
       "      <td>576</td>\n",
       "      <td>576</td>\n",
       "      <td>576</td>\n",
       "      <td>1209</td>\n",
       "    </tr>\n",
       "  </tbody>\n",
       "</table>\n",
       "</div>"
      ],
      "text/plain": [
       "           A     B     C     D     E     F      Y\n",
       "count   1727  1727  1727  1727  1727  1727   1727\n",
       "unique     4     4     4     3     3     3      4\n",
       "top     high  high     3     4   med   med  unacc\n",
       "freq     432   432   432   576   576   576   1209"
      ]
     },
     "execution_count": 5,
     "metadata": {},
     "output_type": "execute_result"
    }
   ],
   "source": [
    "df.describe()\n"
   ]
  },
  {
   "cell_type": "code",
   "execution_count": 6,
   "id": "59ced94f",
   "metadata": {},
   "outputs": [
    {
     "data": {
      "text/plain": [
       "Index(['A', 'B', 'C', 'D', 'E', 'F', 'Y'], dtype='object')"
      ]
     },
     "execution_count": 6,
     "metadata": {},
     "output_type": "execute_result"
    }
   ],
   "source": [
    "df.columns"
   ]
  },
  {
   "cell_type": "code",
   "execution_count": 7,
   "id": "b2ec39d0",
   "metadata": {},
   "outputs": [
    {
     "data": {
      "image/png": "[encoded data removed]",
      "text/plain": [
       "<Figure size 700x600 with 1 Axes>"
      ]
     },
     "metadata": {},
     "output_type": "display_data"
    }
   ],
   "source": [
    "sns.set(font_scale=1.4)\n",
    "df['Y'].value_counts().plot(kind='bar', figsize=(7, 6), rot=0)\n",
    "plt.xlabel(\"Class\", labelpad=14)\n",
    "plt.ylabel(\"Count of Cars\", labelpad=14)\n",
    "plt.title(\"\", y=1.02);"
   ]
  },
  {
   "cell_type": "code",
   "execution_count": 8,
   "id": "5c78bc7f",
   "metadata": {},
   "outputs": [],
   "source": [
    "#label_encoder initialisation\n",
    "le = LabelEncoder()  "
   ]
  },
  {
   "cell_type": "code",
   "execution_count": 9,
   "id": "8600cd8f",
   "metadata": {},
   "outputs": [],
   "source": [
    "#Label Encoding categorical columns and then converting to string\n",
    "df['A']= le.fit_transform(df['A']).astype(str)\n",
    "df['B']= le.fit_transform(df['B']).astype(str)\n",
    "df['C']= le.fit_transform(df['C']).astype(str)\n",
    "df['D']= le.fit_transform(df['D']).astype(str)\n",
    "df['E']= le.fit_transform(df['E']).astype(str)\n",
    "df['F']= le.fit_transform(df['F']).astype(str)\n",
    "df['Y']= le.fit_transform(df['Y']).astype(str)"
   ]
  },
  {
   "cell_type": "code",
   "execution_count": 10,
   "id": "6f52ffa8",
   "metadata": {},
   "outputs": [
    {
     "data": {
      "text/plain": [
       "A    object\n",
       "B    object\n",
       "C    object\n",
       "D    object\n",
       "E    object\n",
       "F    object\n",
       "Y    object\n",
       "dtype: object"
      ]
     },
     "execution_count": 10,
     "metadata": {},
     "output_type": "execute_result"
    }
   ],
   "source": [
    "#Checking data types\n",
    "df.dtypes"
   ]
  },
  {
   "cell_type": "code",
   "execution_count": 11,
   "id": "01ae283c",
   "metadata": {},
   "outputs": [],
   "source": [
    "#Saving the datframe to a string\n",
    "df.to_csv('preprocessed_cars.csv')"
   ]
  },
  {
   "cell_type": "code",
   "execution_count": 12,
   "id": "3f7088d5",
   "metadata": {},
   "outputs": [],
   "source": [
    "# Converting the string data type column to integer type\n",
    "def data_conv(data, column):\n",
    "    class_v = [row[column] for row in data]\n",
    "    uni = set(class_v)\n",
    "    look = dict()\n",
    "    for i, value in enumerate(uni):\n",
    "        look[value] = i\n",
    "    for row in data:\n",
    "        row[column] = look[row[column]]\n",
    "    return look"
   ]
  },
  {
   "cell_type": "code",
   "execution_count": 13,
   "id": "68b41498",
   "metadata": {},
   "outputs": [],
   "source": [
    "# Dataset Split into k folds\n",
    "def ksplit(dataset, n):\n",
    "    a = list()\n",
    "    b = list(dataset)\n",
    "    fol = int(len(dataset) / n)\n",
    "    for _ in range(n):\n",
    "        fold = list()\n",
    "        while len(fold) < fol:\n",
    "            ix = randrange(len(b))\n",
    "            fold.append(b.pop(ix))\n",
    "        a.append(fold)\n",
    "    return a"
   ]
  },
  {
   "cell_type": "code",
   "execution_count": 14,
   "id": "e6d0b761",
   "metadata": {},
   "outputs": [],
   "source": [
    "# Split the dataset by class values, returns a dictionary\n",
    "def separate(dataset):\n",
    "    separated = dict()\n",
    "    for i in range(len(dataset)):\n",
    "        vector = dataset[i]\n",
    "        class_value = vector[-1]\n",
    "        if (class_value not in separated):\n",
    "            separated[class_value] = list()\n",
    "        separated[class_value].append(vector)\n",
    "    return separated"
   ]
  },
  {
   "cell_type": "code",
   "execution_count": 15,
   "id": "9cd5d473",
   "metadata": {},
   "outputs": [],
   "source": [
    "# Calculate the mean, standard deviation of a list of numbers\n",
    "\n",
    "def mean(num):\n",
    "    return sum(num)/(len(num))\n",
    " \n",
    "\n",
    "def stdev(num):\n",
    "    avg = mean(num)\n",
    "    try:\n",
    "        var = int(sum([(x-avg)**2 for x in num])) / (len(num)-1)\n",
    "    except ZeroDivisionError:\n",
    "        var=0\n",
    "    return sqrt(var)\n",
    " \n",
    "def sd(dataset):\n",
    "    story = [(mean(column), stdev(column), len(column)) for column in zip(*dataset)]\n",
    "    del(story[-1])\n",
    "    return story"
   ]
  },
  {
   "cell_type": "code",
   "execution_count": 16,
   "id": "2b5d5bb9",
   "metadata": {},
   "outputs": [],
   "source": [
    "# Implementing K fold Cross Validation\n",
    "def algo(data, algorithm, k, *args):\n",
    "    folds = ksplit(data, k)\n",
    "    scores = list()\n",
    "    for fold in folds:\n",
    "        train_set = list(folds)\n",
    "        train_set.remove(fold)\n",
    "        train_set = sum(train_set, [])\n",
    "        test_set = list()\n",
    "        for row in fold:\n",
    "            row_copy = list(row)\n",
    "            test_set.append(row_copy)\n",
    "            row_copy[-1] = None\n",
    "        predicted = algorithm(train_set, test_set, *args)\n",
    "        actual = [row[-1] for row in fold]\n",
    "        accuracy = accuracy_metric(actual, predicted)\n",
    "        scores.append(accuracy)\n",
    "    return scores"
   ]
  },
  {
   "cell_type": "code",
   "execution_count": 17,
   "id": "d7332adc",
   "metadata": {},
   "outputs": [],
   "source": [
    "# Split dataset by class then calculate statistics for each row\n",
    "def s_class(data):\n",
    "    separated = separate(data)\n",
    "    st = dict()\n",
    "    for class_value, rows in separated.items():\n",
    "        st[class_value] = sd(rows)\n",
    "    return st"
   ]
  },
  {
   "cell_type": "code",
   "execution_count": 18,
   "id": "146fcfb8",
   "metadata": {},
   "outputs": [],
   "source": [
    "# Calculate the Gaussian probability distribution function for x\n",
    "def probability(x, m, s):\n",
    "    try:\n",
    "        res1 = exp(-(int((x-m)**2) / (2 * s**2 )))\n",
    "    except ZeroDivisionError:\n",
    "        res1=0\n",
    "    try:\n",
    "        res2=(1 / (sqrt(2 * pi) * s)) * res1\n",
    "    except ZeroDivisionError:\n",
    "        res2=0\n",
    "    return (res2)"
   ]
  },
  {
   "cell_type": "code",
   "execution_count": 19,
   "id": "f9bfb7b1",
   "metadata": {},
   "outputs": [],
   "source": [
    "# Calculate the probabilities of predicting each class for a given row\n",
    "import numpy as np\n",
    "def calculate(op, row):\n",
    "    total = sum([op[label][0][2] for label in op])\n",
    "    prob = dict()\n",
    "    for cv, cs in op.items():\n",
    "        prob[cv] = op[cv][0][2]/float(total)\n",
    "        for i in range(len(cs)):\n",
    "            m, s, _ = cs[i]\n",
    "            prob[cv] += np.log(probability(row[i], m, s))\n",
    "    return prob"
   ]
  },
  {
   "cell_type": "code",
   "execution_count": 20,
   "id": "1fd5a961",
   "metadata": {},
   "outputs": [],
   "source": [
    "# Gaussian Naive Bayes Algorithm\n",
    "def nb(train, test):\n",
    "    s = s_class(train)\n",
    "    p = list()\n",
    "    for x in test:\n",
    "        res = predictions(s, x)\n",
    "        p.append(res)\n",
    "    return(p)"
   ]
  },
  {
   "cell_type": "code",
   "execution_count": 21,
   "id": "9f7e2bbf",
   "metadata": {},
   "outputs": [],
   "source": [
    "# Predict the class for a given row\n",
    "def predictions(ss, row):\n",
    "    pr = calculate(ss, row)\n",
    "    label, prob = None, -1\n",
    "    for cv, probability in pr.items():\n",
    "        if probability > prob or label is None:\n",
    "            prob = probability\n",
    "            label = cv\n",
    "    return label"
   ]
  },
  {
   "cell_type": "code",
   "execution_count": 22,
   "id": "ef952fc1",
   "metadata": {},
   "outputs": [],
   "source": [
    "# Loading the CSV file\n",
    "def load(filename):\n",
    "    da = list()\n",
    "    with open(filename, 'r') as file:\n",
    "        re = rd(file)\n",
    "        for r in re:\n",
    "            if not r:\n",
    "                continue\n",
    "            da.append(r)\n",
    "    return da"
   ]
  },
  {
   "cell_type": "code",
   "execution_count": 23,
   "id": "46bb8002",
   "metadata": {},
   "outputs": [],
   "source": [
    "#Accuracy Percentage Calculation\n",
    "def accuracy_metric(act, pred):\n",
    "    cor = 0\n",
    "    for i in range(len(act)):\n",
    "        if act[i] == pred[i]:\n",
    "            cor += 1\n",
    "    return cor / (len(act)) * 100.0"
   ]
  },
  {
   "cell_type": "code",
   "execution_count": 24,
   "id": "9d7810cf",
   "metadata": {},
   "outputs": [
    {
     "name": "stderr",
     "output_type": "stream",
     "text": [
      "/var/folders/3m/lm4crwzd05925wnqr9f3qtfw0000gn/T/ipykernel_9396/3351882173.py:10: RuntimeWarning: divide by zero encountered in log\n",
      "  prob[cv] += np.log(probability(row[i], m, s))\n"
     ]
    }
   ],
   "source": [
    "# Pipeline Naive Bayes\n",
    "k = 10\n",
    "name= 'preprocessed_cars.csv'\n",
    "dataset = load(name)\n",
    "for i in range(len(dataset[0])-1):\n",
    "    data_conv(dataset, i)\n",
    "data_conv(dataset, len(dataset[0])-1)\n",
    "res = algo(dataset, nb, k)\n"
   ]
  },
  {
   "cell_type": "code",
   "execution_count": 25,
   "id": "1a5dfb98",
   "metadata": {},
   "outputs": [
    {
     "name": "stdout",
     "output_type": "stream",
     "text": [
      "We have perfomed 10 Fold Cross Validation on the given data using our Gaussian Naive Bayes Model. The result for each fold is as follows:\n",
      "\n",
      " 68.604651\n",
      " 70.348837\n",
      " 76.744186\n",
      " 75.581395\n",
      " 75.000000\n",
      " 70.930233\n",
      " 70.348837\n",
      " 79.069767\n",
      " 77.325581\n",
      " 66.279070\n",
      "\n"
     ]
    }
   ],
   "source": [
    "c=1\n",
    "print(f\"We have perfomed 10 Fold Cross Validation on the given data using our Gaussian Naive Bayes Model. The result for each fold is as follows:\")\n",
    "print(f\"\")\n",
    "for i in res:\n",
    "    print(f' %f' % i)\n",
    "print(f\"\")\n"
   ]
  },
  {
   "cell_type": "code",
   "execution_count": 26,
   "id": "ddacb3ae",
   "metadata": {},
   "outputs": [
    {
     "data": {
      "image/png": "[encoded data removed]",
      "text/plain": [
       "<Figure size 640x480 with 1 Axes>"
      ]
     },
     "metadata": {},
     "output_type": "display_data"
    }
   ],
   "source": [
    "c=[1,2,3,4,5,6,7,8,9,10]\n",
    "plt.plot(res,)\n",
    "plt.title('Accuracy')\n",
    "plt.xlabel('kth Fold')\n",
    "plt.ylabel('K Fold Cross Validation')\n",
    "plt.show()"
   ]
  },
  {
   "cell_type": "code",
   "execution_count": 27,
   "id": "e3e95a4d",
   "metadata": {},
   "outputs": [
    {
     "name": "stdout",
     "output_type": "stream",
     "text": [
      "Hence we can conclude by taking average of all these values that our model is accurate 73.023%\n"
     ]
    }
   ],
   "source": [
    "print(f'Hence we can conclude by taking average of all these values that our model is accurate %.3f%%' % (sum(res)/float(len(res))))"
   ]
  },
  {
   "cell_type": "code",
   "execution_count": null,
   "id": "9d1727c1",
   "metadata": {},
   "outputs": [],
   "source": []
  }
 ],
 "metadata": {
  "kernelspec": {
   "display_name": "Python 3.10.7 64-bit",
   "language": "python",
   "name": "python3"
  },
  "language_info": {
   "codemirror_mode": {
    "name": "ipython",
    "version": 3
   },
   "file_extension": ".py",
   "mimetype": "text/x-python",
   "name": "python",
   "nbconvert_exporter": "python",
   "pygments_lexer": "ipython3",
   "version": "3.10.7"
  },
  "vscode": {
   "interpreter": {
    "hash": "aee8b7b246df8f9039afb4144a1f6fd8d2ca17a180786b69acc140d282b71a49"
   }
  }
 },
 "nbformat": 4,
 "nbformat_minor": 5
}
